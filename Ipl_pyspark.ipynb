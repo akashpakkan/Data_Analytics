{
  "nbformat": 4,
  "nbformat_minor": 0,
  "metadata": {
    "colab": {
      "name": "Ipl_pyspark.ipynb",
      "provenance": [],
      "collapsed_sections": []
    },
    "kernelspec": {
      "name": "python3",
      "display_name": "Python 3"
    },
    "language_info": {
      "name": "python"
    }
  },
  "cells": [
    {
      "cell_type": "markdown",
      "source": [
        "# **SECTION 1**\n",
        "## Data Prepration"
      ],
      "metadata": {
        "id": "HQMLhs2y3WFr"
      }
    },
    {
      "cell_type": "code",
      "source": [
        "# innstall java\n",
        "!apt-get install openjdk-8-jdk-headless -qq > /dev/null\n",
        "\n",
        "# install spark (change the version number if needed)\n",
        "!wget -q https://archive.apache.org/dist/spark/spark-3.1.2/spark-3.1.2-bin-hadoop2.7.tgz\n",
        "\n",
        "# unzip the spark file to the current folder\n",
        "!tar xf spark-3.1.2-bin-hadoop2.7.tgz\n",
        "\n",
        "# set your spark folder to your system path environment. \n",
        "import os\n",
        "os.environ[\"JAVA_HOME\"] = \"/usr/lib/jvm/java-8-openjdk-amd64\"\n",
        "os.environ[\"SPARK_HOME\"] = \"/content/spark-3.1.2-bin-hadoop2.7\"\n",
        "\n",
        "\n",
        "# install findspark using pip\n",
        "!pip install -q findspark"
      ],
      "metadata": {
        "id": "fExLNhoMmmA7"
      },
      "execution_count": null,
      "outputs": []
    },
    {
      "cell_type": "code",
      "source": [
        "import findspark\n",
        "findspark.init()"
      ],
      "metadata": {
        "id": "DZBHUo0rmmZ0"
      },
      "execution_count": null,
      "outputs": []
    },
    {
      "cell_type": "code",
      "source": [
        "from pyspark.sql import SparkSession\n",
        "\n",
        "spark = (SparkSession\n",
        "         .builder\n",
        "         .appName(\"Dataframe\")\n",
        "         .getOrCreate())"
      ],
      "metadata": {
        "id": "y4geVJZbJeSK"
      },
      "execution_count": null,
      "outputs": []
    },
    {
      "cell_type": "markdown",
      "source": [
        "## Reading the dataset from drive"
      ],
      "metadata": {
        "id": "3W86jWhjuSjB"
      }
    },
    {
      "cell_type": "code",
      "source": [
        "## read the dataset \n",
        "\n",
        "ipl_venue = spark.read.option('header','true').csv('/content/drive/MyDrive/ipl_venue.csv')\n",
        "ipl_matches = spark.read.option('header','true').csv('/content/drive/MyDrive/ipl_matches.csv')\n",
        "ipl_ball = spark.read.option('header','true').csv('/content/drive/MyDrive/ipl_ball_by_ball.csv')\n",
        "\n",
        "ipl_venue.show()"
      ],
      "metadata": {
        "colab": {
          "base_uri": "https://localhost:8080/"
        },
        "id": "q8Z24nufUVgK",
        "outputId": "70b4b114-7be1-477e-c7bf-986f38e1502a"
      },
      "execution_count": null,
      "outputs": [
        {
          "output_type": "stream",
          "name": "stdout",
          "text": [
            "+--------+--------------------+--------------+\n",
            "|venue_id|               venue|          city|\n",
            "+--------+--------------------+--------------+\n",
            "|       1|Dr. Y.S. Rajasekh...| Visakhapatnam|\n",
            "|       2|Sharjah Cricket S...|       Sharjah|\n",
            "|       3|JSCA Internationa...|        Ranchi|\n",
            "|       4|Saurashtra Cricke...|        Rajkot|\n",
            "|       5|Shaheed Veer Nara...|        Raipur|\n",
            "|       6|Maharashtra Crick...|          Pune|\n",
            "|       7|Subrata Roy Sahar...|          Pune|\n",
            "|       8|    St George's Park|Port Elizabeth|\n",
            "|       9|Vidarbha Cricket ...|        Nagpur|\n",
            "|      12|   Brabourne Stadium|        Mumbai|\n",
            "|      13|Dr DY Patil Sport...|        Mumbai|\n",
            "|      14|    Wankhede Stadium|        Mumbai|\n",
            "|      15|        Eden Gardens|       Kolkata|\n",
            "|      16|       Nehru Stadium|         Kochi|\n",
            "|      17|De Beers Diamond ...|     Kimberley|\n",
            "|      18|          Green Park|        Kanpur|\n",
            "|      19|New Wanderers Sta...|  Johannesburg|\n",
            "|      20|Sawai Mansingh St...|        Jaipur|\n",
            "|      21|Holkar Cricket St...|        Indore|\n",
            "|      22|Rajiv Gandhi Inte...|     Hyderabad|\n",
            "+--------+--------------------+--------------+\n",
            "only showing top 20 rows\n",
            "\n"
          ]
        }
      ]
    },
    {
      "cell_type": "markdown",
      "source": [
        "## Looking for the data types of the coloumns"
      ],
      "metadata": {
        "id": "F66qSDV7uioZ"
      }
    },
    {
      "cell_type": "code",
      "source": [
        "## Looking for the data types of the coloumns\n",
        "\n",
        "ipl_venue.printSchema()\n",
        "ipl_matches.printSchema()\n",
        "ipl_ball.printSchema()"
      ],
      "metadata": {
        "colab": {
          "base_uri": "https://localhost:8080/"
        },
        "id": "WxHfkjvFWpMe",
        "outputId": "7a0a5355-056d-4376-d4ca-900c656d2247"
      },
      "execution_count": null,
      "outputs": [
        {
          "output_type": "stream",
          "name": "stdout",
          "text": [
            "root\n",
            " |-- venue_id: string (nullable = true)\n",
            " |-- venue: string (nullable = true)\n",
            " |-- city: string (nullable = true)\n",
            "\n",
            "root\n",
            " |-- match_id: string (nullable = true)\n",
            " |-- date: string (nullable = true)\n",
            " |-- player_of_match: string (nullable = true)\n",
            " |-- venue_id: string (nullable = true)\n",
            " |-- neutral_venue: string (nullable = true)\n",
            " |-- team1: string (nullable = true)\n",
            " |-- team2: string (nullable = true)\n",
            " |-- toss_winner: string (nullable = true)\n",
            " |-- toss_decision: string (nullable = true)\n",
            " |-- winner: string (nullable = true)\n",
            " |-- result: string (nullable = true)\n",
            " |-- result_margin: string (nullable = true)\n",
            " |-- eliminator: string (nullable = true)\n",
            " |-- method: string (nullable = true)\n",
            " |-- umpire1: string (nullable = true)\n",
            " |-- umpire2: string (nullable = true)\n",
            "\n",
            "root\n",
            " |-- match_id: string (nullable = true)\n",
            " |-- inning: string (nullable = true)\n",
            " |-- overs: string (nullable = true)\n",
            " |-- ball: string (nullable = true)\n",
            " |-- batsman: string (nullable = true)\n",
            " |-- non_striker: string (nullable = true)\n",
            " |-- bowler: string (nullable = true)\n",
            " |-- batsman_runs: string (nullable = true)\n",
            " |-- extra_runs: string (nullable = true)\n",
            " |-- total_runs: string (nullable = true)\n",
            " |-- non_boundary: string (nullable = true)\n",
            " |-- is_wicket: string (nullable = true)\n",
            " |-- dismissal_kind: string (nullable = true)\n",
            " |-- player_dismissed: string (nullable = true)\n",
            " |-- fielder: string (nullable = true)\n",
            " |-- extras_type: string (nullable = true)\n",
            " |-- batting_team: string (nullable = true)\n",
            " |-- bowling_team: string (nullable = true)\n",
            "\n"
          ]
        }
      ]
    },
    {
      "cell_type": "markdown",
      "source": [
        "## Converting String to numeric"
      ],
      "metadata": {
        "id": "0MlfVUh8zpfi"
      }
    },
    {
      "cell_type": "code",
      "source": [
        "#Converting String to numeric\n",
        "\n",
        "from pyspark.sql.types import IntegerType\n",
        "\n",
        "ipl_matches = ipl_matches.withColumn(\"match_id\", ipl_matches[\"match_id\"].cast(IntegerType()))\n",
        "ipl_matches = ipl_matches.withColumn(\"result_margin\", ipl_matches[\"result_margin\"].cast(IntegerType()))\n",
        "ipl_venue = ipl_venue.withColumn(\"venue_id\", ipl_venue[\"venue_id\"].cast(IntegerType()))\n",
        "\n",
        "ipl_ball = ipl_ball.withColumn(\"inning\", ipl_ball[\"inning\"].cast(IntegerType()))\n",
        "ipl_ball = ipl_ball.withColumn(\"overs\", ipl_ball[\"overs\"].cast(IntegerType()))\n",
        "ipl_ball = ipl_ball.withColumn(\"batsman_runs\", ipl_ball[\"batsman_runs\"].cast(IntegerType()))\n",
        "ipl_ball = ipl_ball.withColumn(\"extra_runs\", ipl_ball[\"extra_runs\"].cast(IntegerType()))\n",
        "ipl_ball = ipl_ball.withColumn(\"total_runs\", ipl_ball[\"total_runs\"].cast(IntegerType()))\n",
        "ipl_ball = ipl_ball.withColumn(\"non_boundary\", ipl_ball[\"overs\"].cast(IntegerType()))\n",
        "ipl_ball = ipl_ball.withColumn(\"is_wicket\", ipl_ball[\"is_wicket\"].cast(IntegerType()))\n",
        "\n",
        "\n",
        "ipl_matches.printSchema()"
      ],
      "metadata": {
        "colab": {
          "base_uri": "https://localhost:8080/"
        },
        "id": "ExBdyJLSEmxA",
        "outputId": "e0822aca-c8c6-4ba7-eeab-8aaf9dcbfbdb"
      },
      "execution_count": null,
      "outputs": [
        {
          "output_type": "stream",
          "name": "stdout",
          "text": [
            "root\n",
            " |-- match_id: integer (nullable = true)\n",
            " |-- date: string (nullable = true)\n",
            " |-- player_of_match: string (nullable = true)\n",
            " |-- venue_id: string (nullable = true)\n",
            " |-- neutral_venue: string (nullable = true)\n",
            " |-- team1: string (nullable = true)\n",
            " |-- team2: string (nullable = true)\n",
            " |-- toss_winner: string (nullable = true)\n",
            " |-- toss_decision: string (nullable = true)\n",
            " |-- winner: string (nullable = true)\n",
            " |-- result: string (nullable = true)\n",
            " |-- result_margin: integer (nullable = true)\n",
            " |-- eliminator: string (nullable = true)\n",
            " |-- method: string (nullable = true)\n",
            " |-- umpire1: string (nullable = true)\n",
            " |-- umpire2: string (nullable = true)\n",
            "\n"
          ]
        }
      ]
    },
    {
      "cell_type": "markdown",
      "source": [
        "# **SECTION 2**\n",
        "## 1. Top 3 venues which hosted the most number of eliminator matches"
      ],
      "metadata": {
        "id": "AK3xHUR9zwGb"
      }
    },
    {
      "cell_type": "code",
      "source": [
        "from pyspark.sql import SQLContext, Row\n",
        "\n",
        "#Checking distinct values and value counts of eliminator\n",
        "ipl_matches.groupBy(\"eliminator\").count().show()\n",
        "\n",
        "## Joining ipl_venue and ipl_match as ipl_vm. (vm = venue match)\n",
        "ipl_vm = ipl_venue.join(ipl_matches, ipl_venue.venue_id == ipl_matches.venue_id).drop(ipl_matches.venue_id)\n",
        "\n",
        "df1 = ipl_vm.groupBy(\"venue\",\"eliminator\").count().sort(\"count\",ascending=False).filter(ipl_vm.eliminator==\"Y\").show()"
      ],
      "metadata": {
        "colab": {
          "base_uri": "https://localhost:8080/"
        },
        "id": "xUjMyTTT_Mly",
        "outputId": "a5b18280-4842-4239-e035-0ff9f4db17dd"
      },
      "execution_count": null,
      "outputs": [
        {
          "output_type": "stream",
          "name": "stdout",
          "text": [
            "+----------+-----+\n",
            "|eliminator|count|\n",
            "+----------+-----+\n",
            "|        NA|    4|\n",
            "|         Y|   13|\n",
            "|         N|  799|\n",
            "+----------+-----+\n",
            "\n",
            "+--------------------+----------+-----+\n",
            "|               venue|eliminator|count|\n",
            "+--------------------+----------+-----+\n",
            "|Dubai Internation...|         Y|    3|\n",
            "|Sheikh Zayed Stadium|         Y|    2|\n",
            "|            Newlands|         Y|    1|\n",
            "|    Wankhede Stadium|         Y|    1|\n",
            "|    Feroz Shah Kotla|         Y|    1|\n",
            "|Saurashtra Cricke...|         Y|    1|\n",
            "|M.Chinnaswamy Sta...|         Y|    1|\n",
            "|MA Chidambaram St...|         Y|    1|\n",
            "|Rajiv Gandhi Inte...|         Y|    1|\n",
            "|Sardar Patel Stad...|         Y|    1|\n",
            "+--------------------+----------+-----+\n",
            "\n"
          ]
        }
      ]
    },
    {
      "cell_type": "markdown",
      "source": [
        "## 2. Most number of catches taken by a player in IPL history"
      ],
      "metadata": {
        "id": "qvra8-Mt0pQD"
      }
    },
    {
      "cell_type": "code",
      "source": [
        "ipl_ball.groupBy(\"bowler\",\"dismissal_kind\").count().filter(ipl_ball.dismissal_kind == \"caught\").show()"
      ],
      "metadata": {
        "colab": {
          "base_uri": "https://localhost:8080/"
        },
        "id": "A6Z-mHJYYElW",
        "outputId": "75a1cfbb-8dc6-4d0f-e0c5-8069677726f0"
      },
      "execution_count": null,
      "outputs": [
        {
          "output_type": "stream",
          "name": "stdout",
          "text": [
            "+---------------+--------------+-----+\n",
            "|         bowler|dismissal_kind|count|\n",
            "+---------------+--------------+-----+\n",
            "|        S Gopal|        caught|   30|\n",
            "|       ND Doshi|        caught|    1|\n",
            "|      GH Vihari|        caught|    1|\n",
            "|       TL Suman|        caught|    6|\n",
            "|SMSM Senanayake|        caught|    1|\n",
            "|        RR Raje|        caught|    4|\n",
            "|        D Wiese|        caught|   13|\n",
            "|  Parvez Rasool|        caught|    3|\n",
            "|     DL Vettori|        caught|   15|\n",
            "|       S Badree|        caught|    6|\n",
            "|     M de Lange|        caught|    3|\n",
            "|      CH Morris|        caught|   53|\n",
            "|       AR Patel|        caught|   44|\n",
            "|       S Dhawan|        caught|    3|\n",
            "|       MA Khote|        caught|    2|\n",
            "| PD Collingwood|        caught|    3|\n",
            "|      DNT Zoysa|        caught|    1|\n",
            "|   MC Henriques|        caught|   32|\n",
            "|     TM Dilshan|        caught|    3|\n",
            "|J Syed Mohammad|        caught|    6|\n",
            "+---------------+--------------+-----+\n",
            "only showing top 20 rows\n",
            "\n"
          ]
        }
      ]
    },
    {
      "cell_type": "markdown",
      "source": [
        "## 3. Report for highest wicket taker in matches which were affected by Duckworth-Lewis’s method (D/L method)."
      ],
      "metadata": {
        "id": "RtcCGiAz03Hq"
      }
    },
    {
      "cell_type": "code",
      "source": [
        "## Joining ipl_match and ipl_ball as ipl_mb. (mb = match ball)\n",
        "ipl_mb = ipl_matches.join(ipl_ball,ipl_matches.match_id == ipl_ball.match_id)\n",
        "\n",
        "ipl_mb.select(\"bowler\",\"method\",\"is_wicket\").show()\n",
        "ipl_mb.select(\"is_wicket\").distinct().show()\n",
        "\n",
        "df_mb = ipl_mb.groupBy(\"bowler\",\"method\",\"is_wicket\").count()\n",
        "df2 = df_mb.filter((ipl_mb.is_wicket == \"1\") & (ipl_mb.method == \"D/L\")).sort(\"count\",ascending=False)\n",
        "print(\"No.of bowlers with wicket inD/L: \",df2.count())\n",
        "df2.show()\n",
        "\n"
      ],
      "metadata": {
        "id": "1zEMCCWmZCs9",
        "colab": {
          "base_uri": "https://localhost:8080/"
        },
        "outputId": "edf8c789-d496-4dc7-8dbd-1e36ecd77dc5"
      },
      "execution_count": null,
      "outputs": [
        {
          "output_type": "stream",
          "name": "stdout",
          "text": [
            "+------------+------+---------+\n",
            "|      bowler|method|is_wicket|\n",
            "+------------+------+---------+\n",
            "|CRD Fernando|    NA|        0|\n",
            "|CRD Fernando|    NA|        0|\n",
            "|CRD Fernando|    NA|        0|\n",
            "|   R McLaren|    NA|        0|\n",
            "|   R McLaren|    NA|        0|\n",
            "|   R McLaren|    NA|        0|\n",
            "|   R McLaren|    NA|        0|\n",
            "|   R McLaren|    NA|        0|\n",
            "|   R McLaren|    NA|        0|\n",
            "|  KA Pollard|    NA|        0|\n",
            "|  KA Pollard|    NA|        1|\n",
            "|  KA Pollard|    NA|        0|\n",
            "|  KA Pollard|    NA|        0|\n",
            "|  KA Pollard|    NA|        0|\n",
            "|  KA Pollard|    NA|        0|\n",
            "|  KA Pollard|    NA|        1|\n",
            "|   R McLaren|    NA|        0|\n",
            "|    DW Steyn|    NA|        0|\n",
            "|    DW Steyn|    NA|        0|\n",
            "|    DW Steyn|    NA|        0|\n",
            "+------------+------+---------+\n",
            "only showing top 20 rows\n",
            "\n",
            "+---------+\n",
            "|is_wicket|\n",
            "+---------+\n",
            "|        1|\n",
            "|        0|\n",
            "+---------+\n",
            "\n",
            "No.of bowlers with wicket inD/L:  72\n",
            "+----------------+------+---------+-----+\n",
            "|          bowler|method|is_wicket|count|\n",
            "+----------------+------+---------+-----+\n",
            "|        AB Dinda|   D/L|        1|    8|\n",
            "|        R Ashwin|   D/L|        1|    8|\n",
            "|    MC Henriques|   D/L|        1|    7|\n",
            "|         B Kumar|   D/L|        1|    6|\n",
            "|      DL Vettori|   D/L|        1|    5|\n",
            "|        TA Boult|   D/L|        1|    5|\n",
            "|      JD Unadkat|   D/L|        1|    5|\n",
            "|        L Balaji|   D/L|        1|    5|\n",
            "|       PP Chawla|   D/L|        1|    4|\n",
            "|       YS Chahal|   D/L|        1|    4|\n",
            "|         M Ntini|   D/L|        1|    4|\n",
            "|        A Mishra|   D/L|        1|    4|\n",
            "|        UT Yadav|   D/L|        1|    3|\n",
            "|        S Nadeem|   D/L|        1|    3|\n",
            "|         A Zampa|   D/L|        1|    3|\n",
            "| NM Coulter-Nile|   D/L|        1|    3|\n",
            "|     NLTC Perera|   D/L|        1|    3|\n",
            "|       S Aravind|   D/L|        1|    3|\n",
            "|         BB Sran|   D/L|        1|    2|\n",
            "|Mujeeb Ur Rahman|   D/L|        1|    2|\n",
            "+----------------+------+---------+-----+\n",
            "only showing top 20 rows\n",
            "\n"
          ]
        }
      ]
    },
    {
      "cell_type": "markdown",
      "source": [
        "## 4. Return a report for highest strike rate by a batsman in non powerplay overs(7-20 overs)"
      ],
      "metadata": {
        "id": "-oVv-dDE1uwh"
      }
    },
    {
      "cell_type": "code",
      "source": [
        "legal=ipl_vmb[(~ipl_vmb['extras_type'].isin(['wides', 'noballs'])) & (ipl_vmb['overs'].between(7,20))]\n",
        "#filtering out wides and no balls, and taking  only powerplay overs(7-20) \n",
        "\n",
        "runs=legal.groupBy('batsman').sum('batsman_runs')\n",
        "#finding out total runs by each batsman\n",
        "\n",
        "ball=legal.groupby('batsman').count()\n",
        "#finding out total balls faced by each batsman\n",
        "\n",
        "balls=ball.withColumnRenamed(\"batsman\",\"batsman_1\")\n",
        "\n",
        "joined=balls.join(runs, balls.batsman_1 == runs.batsman, 'inner')\n",
        "#In pandas we could  just do strike_rate=runs*100/balls and we could get strike rate. We can't do same in pyspark , so first I will join the two result set and then find the strike rate\n",
        "\n",
        "result_4=joined.withColumn(\"Strike rate\", col(\"sum(batsman_runs)\")*100/col(\"count\")).sort('Strike rate',ascending=False)\n",
        "#Dividing the two columns and getting the strike rate the hard way.\n",
        "\n",
        "result_4.select('batsman','Strike rate').show(10)\n",
        "#Top 10 batsman with highest strike in powerplay\n"
      ],
      "metadata": {
        "colab": {
          "base_uri": "https://localhost:8080/"
        },
        "id": "W66KT2m-rlLg",
        "outputId": "e9d41ca8-7e9c-4209-8352-50e628613c5d"
      },
      "execution_count": null,
      "outputs": [
        {
          "output_type": "stream",
          "name": "stdout",
          "text": [
            "+------------+------------------+\n",
            "|     batsman|       Strike rate|\n",
            "+------------+------------------+\n",
            "|  B Stanlake|             250.0|\n",
            "|Kamran Akmal|213.88888888888889|\n",
            "|  ER Dwivedi|211.11111111111111|\n",
            "|    Umar Gul|205.26315789473685|\n",
            "|    RS Sodhi|             200.0|\n",
            "| AC Blizzard|             200.0|\n",
            "|    W Jaffer|             188.0|\n",
            "|   DJM Short|187.09677419354838|\n",
            "|   LJ Wright|             186.0|\n",
            "|  AD Russell|181.85185185185185|\n",
            "+------------+------------------+\n",
            "only showing top 10 rows\n",
            "\n"
          ]
        }
      ]
    },
    {
      "cell_type": "markdown",
      "source": [
        "## 5. Return a report for highest extra runs in a venue (stadium, city)"
      ],
      "metadata": {
        "id": "XuFBEb9r2FlJ"
      }
    },
    {
      "cell_type": "code",
      "source": [
        "## Joing ipl_vm and ipl_ball as ipl_mvb. (vmb = venue match ball)\n",
        "ipl_vmb = ipl_vm.join(ipl_ball, ipl_vm.match_id == ipl_ball.match_id).drop(ipl_vm.match_id)\n",
        "#ipl_vmb.printSchema()\n",
        "\n",
        "ipl_vmb.groupBy(\"venue\",\"city\").sum(\"extra_runs\").sort(\"sum(extra_runs)\",ascending=False).show()"
      ],
      "metadata": {
        "colab": {
          "base_uri": "https://localhost:8080/"
        },
        "id": "kCh_t8VIBAiz",
        "outputId": "bcbf2f4b-29af-485d-fec1-d8de9ac2133e"
      },
      "execution_count": null,
      "outputs": [
        {
          "output_type": "stream",
          "name": "stdout",
          "text": [
            "+--------------------+----------+---------------+\n",
            "|               venue|      city|sum(extra_runs)|\n",
            "+--------------------+----------+---------------+\n",
            "|M.Chinnaswamy Sta...| Bengaluru|           1355|\n",
            "|    Wankhede Stadium|    Mumbai|           1232|\n",
            "|        Eden Gardens|   Kolkata|           1215|\n",
            "|    Feroz Shah Kotla|     Delhi|           1114|\n",
            "|MA Chidambaram St...|   Chennai|            905|\n",
            "|Rajiv Gandhi Inte...| Hyderabad|            900|\n",
            "|Sawai Mansingh St...|    Jaipur|            791|\n",
            "|Punjab Cricket As...|Chandigarh|            566|\n",
            "|Dubai Internation...|     Dubai|            492|\n",
            "|Sheikh Zayed Stadium| Abu Dhabi|            387|\n",
            "|Dr DY Patil Sport...|    Mumbai|            320|\n",
            "|Maharashtra Crick...|      Pune|            315|\n",
            "|Sharjah Cricket S...|   Sharjah|            287|\n",
            "|           Kingsmead|    Durban|            277|\n",
            "|Punjab Cricket As...|Chandigarh|            271|\n",
            "|   Brabourne Stadium|    Mumbai|            246|\n",
            "|Subrata Roy Sahar...|      Pune|            237|\n",
            "|     SuperSport Park| Centurion|            213|\n",
            "|Himachal Pradesh ...|Dharamsala|            177|\n",
            "|Sardar Patel Stad...| Ahmedabad|            175|\n",
            "+--------------------+----------+---------------+\n",
            "only showing top 20 rows\n",
            "\n"
          ]
        }
      ]
    },
    {
      "cell_type": "markdown",
      "source": [
        "## 6. Return a report for the cricketers with the most number of players of the match award in neutral venues."
      ],
      "metadata": {
        "id": "VzvnIod52ORa"
      }
    },
    {
      "cell_type": "code",
      "source": [
        "df_vmb = ipl_vmb.groupBy(\"player_of_match\",\"neutral_venue\").count()\n",
        "#returning counts of players in neutral venue\n",
        "\n",
        "df3 = df_vmb.filter(df_vmb.neutral_venue == \"1\").sort(\"count\")\n",
        "# Filters out the players awarded with neutral venue\n",
        "\n",
        "print(\"Total no.of player_of_match in neutral_venue:\", df3.count())\n",
        "df3.show()\n"
      ],
      "metadata": {
        "id": "-dWzp2arb_yE",
        "colab": {
          "base_uri": "https://localhost:8080/"
        },
        "outputId": "f3f35f49-35e2-46d4-a32c-158d15556bf2"
      },
      "execution_count": null,
      "outputs": [
        {
          "output_type": "stream",
          "name": "stdout",
          "text": [
            "Total no.of player_of_match in neutral_venue: 55\n",
            "+---------------+-------------+-----+\n",
            "|player_of_match|neutral_venue|count|\n",
            "+---------------+-------------+-----+\n",
            "|     DL Vettori|            1|  108|\n",
            "|       PV Tambe|            1|  171|\n",
            "|       CH Gayle|            1|  187|\n",
            "|       RP Singh|            1|  199|\n",
            "|       MS Dhoni|            1|  215|\n",
            "|        A Singh|            1|  218|\n",
            "|       R Dravid|            1|  221|\n",
            "|       PA Patel|            1|  230|\n",
            "|      YS Chahal|            1|  230|\n",
            "|       A Mishra|            1|  234|\n",
            "|Harbhajan Singh|            1|  234|\n",
            "|      MM Sharma|            1|  237|\n",
            "|        M Vijay|            1|  238|\n",
            "|    S Badrinath|            1|  238|\n",
            "|      G Gambhir|            1|  240|\n",
            "|       V Sehwag|            1|  241|\n",
            "|      RS Bopara|            1|  242|\n",
            "|      LR Shukla|            1|  242|\n",
            "|      DP Nannes|            1|  243|\n",
            "|      AM Rahane|            1|  244|\n",
            "+---------------+-------------+-----+\n",
            "only showing top 20 rows\n",
            "\n"
          ]
        }
      ]
    },
    {
      "cell_type": "markdown",
      "source": [
        "## 7. Top 10 players with the highest batting average"
      ],
      "metadata": {
        "id": "s2MoCfng6wNp"
      }
    },
    {
      "cell_type": "code",
      "source": [
        "from pyspark.sql.functions import col\n",
        "\n",
        "player_dismissed=ipl_vmb.groupby('player_dismissed').count()\n",
        "#Counting number of times a player is dismissed\n",
        "\n",
        "total_runs=ipl_vmb.groupBy('batsman').sum('batsman_runs')\n",
        "joined_data=player_dismissed.join(total_runs, player_dismissed.player_dismissed == total_runs.batsman, 'inner')\n",
        "\n",
        "result_7=joined_data.withColumn(\"Batsmen Avg\", col(\"sum(batsman_runs)\")/col(\"count\")).sort('Batsmen Avg',ascending=False)\n",
        "#Dividing runs by number of times they have been dismissed\n",
        "\n",
        "result_7.select('batsman','Batsmen Avg').show(10)"
      ],
      "metadata": {
        "id": "OQROUtPt60BZ"
      },
      "execution_count": null,
      "outputs": []
    },
    {
      "cell_type": "markdown",
      "source": [
        "## 8. out who has officiated (as an umpire) the most number of matches in IPL."
      ],
      "metadata": {
        "id": "IXL_1Gal2U5b"
      }
    },
    {
      "cell_type": "code",
      "source": [
        "#ipl_vmb.printSchema()\n",
        "\n",
        "df4 = ipl_vmb.select(\"match_id\",\"umpire1\")\n",
        "df5 = ipl_vmb.select(\"match_id\",\"umpire2\")\n",
        "df6 = df4.union(df5)\n",
        "\n",
        "df_umpires = df6.dropDuplicates([\"match_id\",\"umpire1\"])\n",
        "\n",
        "df_7 = df_umpires.groupBy(\"umpire1\").count().sort(\"count\", ascending = False)\n",
        "print(\"Total no.of umpires \",df_7.count())\n",
        "df_7.show()\n",
        "\n"
      ],
      "metadata": {
        "id": "5im9eYkAcHYm",
        "colab": {
          "base_uri": "https://localhost:8080/"
        },
        "outputId": "074f870e-55e6-4903-fc0a-a68edee5a7d5"
      },
      "execution_count": null,
      "outputs": [
        {
          "output_type": "stream",
          "name": "stdout",
          "text": [
            "Total no.of umpires  56\n",
            "+--------------------+-----+\n",
            "|             umpire1|count|\n",
            "+--------------------+-----+\n",
            "|              S Ravi|  121|\n",
            "|     HDPK Dharmasena|   94|\n",
            "|        AK Chaudhary|   87|\n",
            "|       C Shamshuddin|   82|\n",
            "|           M Erasmus|   65|\n",
            "|         Nitin Menon|   57|\n",
            "|           CK Nandan|   57|\n",
            "|          SJA Taufel|   55|\n",
            "|           Asad Rauf|   51|\n",
            "|         VA Kulkarni|   50|\n",
            "|        BNJ Oxenford|   48|\n",
            "|         CB Gaffaney|   47|\n",
            "|           RJ Tucker|   46|\n",
            "|         BR Doctrove|   42|\n",
            "|         RE Koertzen|   41|\n",
            "|           Aleem Dar|   38|\n",
            "|           BF Bowden|   37|\n",
            "|            NJ Llong|   37|\n",
            "|KN Ananthapadmana...|   33|\n",
            "|      RK Illingworth|   31|\n",
            "+--------------------+-----+\n",
            "only showing top 20 rows\n",
            "\n"
          ]
        }
      ]
    },
    {
      "cell_type": "markdown",
      "source": [
        "## 9. Venue details of the match where V Kohli scored his highest individual runs in IPL."
      ],
      "metadata": {
        "id": "Cv2Opqlo2eU2"
      }
    },
    {
      "cell_type": "code",
      "source": [
        "## Venue details of the match where V Kohli scored his highest individual runs in IPL.\n",
        "\n",
        "df_virat = ipl_vmb.select(\"match_id\",\"venue\",\"batsman\",\"batsman_runs\").filter(ipl_vmb.batsman == \"V Kohli\")\n",
        "df8 = df_virat.groupBy(\"match_id\",\"batsman\",\"venue\").sum(\"batsman_runs\").sort(\"sum(batsman_runs)\", ascending = False)\n",
        "print(\"Total Matches played by Kholi: \",df8.count())\n",
        "df8.show()"
      ],
      "metadata": {
        "id": "VfvVNJ73ixFD",
        "colab": {
          "base_uri": "https://localhost:8080/"
        },
        "outputId": "f1cdf0ca-02aa-4538-fa7d-5aedaf900972"
      },
      "execution_count": null,
      "outputs": [
        {
          "output_type": "stream",
          "name": "stdout",
          "text": [
            "Total Matches played by Kholi:  184\n",
            "+--------+-------+--------------------+-----------------+\n",
            "|match_id|batsman|               venue|sum(batsman_runs)|\n",
            "+--------+-------+--------------------+-----------------+\n",
            "|  980999|V Kohli|M.Chinnaswamy Sta...|              113|\n",
            "|  980987|V Kohli|M.Chinnaswamy Sta...|              109|\n",
            "|  980969|V Kohli|M.Chinnaswamy Sta...|              108|\n",
            "|  980937|V Kohli|Saurashtra Cricke...|              100|\n",
            "| 1178410|V Kohli|        Eden Gardens|              100|\n",
            "|  598054|V Kohli|    Feroz Shah Kotla|               99|\n",
            "|  598048|V Kohli|M.Chinnaswamy Sta...|               93|\n",
            "| 1136574|V Kohli|    Wankhede Stadium|               92|\n",
            "| 1216525|V Kohli|Dubai Internation...|               90|\n",
            "| 1175372|V Kohli|M.Chinnaswamy Sta...|               84|\n",
            "|  829795|V Kohli|    Wankhede Stadium|               82|\n",
            "|  980931|V Kohli|Maharashtra Crick...|               80|\n",
            "|  980921|V Kohli|M.Chinnaswamy Sta...|               79|\n",
            "|  980995|V Kohli|        Eden Gardens|               75|\n",
            "|  980907|V Kohli|M.Chinnaswamy Sta...|               75|\n",
            "|  548372|V Kohli|    Feroz Shah Kotla|               73|\n",
            "|  734035|V Kohli|M.Chinnaswamy Sta...|               73|\n",
            "| 1216514|V Kohli|Sheikh Zayed Stadium|               72|\n",
            "|  501208|V Kohli|Rajiv Gandhi Inte...|               71|\n",
            "|  501268|V Kohli|    Wankhede Stadium|               70|\n",
            "+--------+-------+--------------------+-----------------+\n",
            "only showing top 20 rows\n",
            "\n"
          ]
        }
      ]
    },
    {
      "cell_type": "markdown",
      "source": [
        "## 10. Creative Case study:\n",
        "### Analyze how winning/losing tosses can impact a match and it's result?"
      ],
      "metadata": {
        "id": "EoUFcPLf2mJX"
      }
    },
    {
      "cell_type": "code",
      "source": [
        "ipl_vmb.printSchema()\n",
        "ipl_vmb.select(\"toss_winner\",\"toss_decision\",\"result\",\"result_margin\",\"winner\").show()"
      ],
      "metadata": {
        "id": "rvT7J_LwjSKA",
        "colab": {
          "base_uri": "https://localhost:8080/"
        },
        "outputId": "c4038289-3ee4-472f-8e96-6744917b3039"
      },
      "execution_count": null,
      "outputs": [
        {
          "output_type": "stream",
          "name": "stdout",
          "text": [
            "root\n",
            " |-- venue_id: integer (nullable = true)\n",
            " |-- venue: string (nullable = true)\n",
            " |-- city: string (nullable = true)\n",
            " |-- date: string (nullable = true)\n",
            " |-- player_of_match: string (nullable = true)\n",
            " |-- neutral_venue: string (nullable = true)\n",
            " |-- team1: string (nullable = true)\n",
            " |-- team2: string (nullable = true)\n",
            " |-- toss_winner: string (nullable = true)\n",
            " |-- toss_decision: string (nullable = true)\n",
            " |-- winner: string (nullable = true)\n",
            " |-- result: string (nullable = true)\n",
            " |-- result_margin: integer (nullable = true)\n",
            " |-- eliminator: string (nullable = true)\n",
            " |-- method: string (nullable = true)\n",
            " |-- umpire1: string (nullable = true)\n",
            " |-- umpire2: string (nullable = true)\n",
            " |-- match_id: string (nullable = true)\n",
            " |-- inning: integer (nullable = true)\n",
            " |-- overs: integer (nullable = true)\n",
            " |-- ball: string (nullable = true)\n",
            " |-- batsman: string (nullable = true)\n",
            " |-- non_striker: string (nullable = true)\n",
            " |-- bowler: string (nullable = true)\n",
            " |-- batsman_runs: integer (nullable = true)\n",
            " |-- extra_runs: integer (nullable = true)\n",
            " |-- total_runs: integer (nullable = true)\n",
            " |-- non_boundary: integer (nullable = true)\n",
            " |-- is_wicket: integer (nullable = true)\n",
            " |-- dismissal_kind: string (nullable = true)\n",
            " |-- player_dismissed: string (nullable = true)\n",
            " |-- fielder: string (nullable = true)\n",
            " |-- extras_type: string (nullable = true)\n",
            " |-- batting_team: string (nullable = true)\n",
            " |-- bowling_team: string (nullable = true)\n",
            "\n",
            "+--------------------+-------------+------+-------------+--------------------+\n",
            "|         toss_winner|toss_decision|result|result_margin|              winner|\n",
            "+--------------------+-------------+------+-------------+--------------------+\n",
            "|Royal Challengers...|        field|  runs|          140|Kolkata Knight Ri...|\n",
            "|Royal Challengers...|        field|  runs|          140|Kolkata Knight Ri...|\n",
            "|Royal Challengers...|        field|  runs|          140|Kolkata Knight Ri...|\n",
            "|Royal Challengers...|        field|  runs|          140|Kolkata Knight Ri...|\n",
            "|Royal Challengers...|        field|  runs|          140|Kolkata Knight Ri...|\n",
            "|Royal Challengers...|        field|  runs|          140|Kolkata Knight Ri...|\n",
            "|Royal Challengers...|        field|  runs|          140|Kolkata Knight Ri...|\n",
            "|Royal Challengers...|        field|  runs|          140|Kolkata Knight Ri...|\n",
            "|Royal Challengers...|        field|  runs|          140|Kolkata Knight Ri...|\n",
            "|Royal Challengers...|        field|  runs|          140|Kolkata Knight Ri...|\n",
            "|Royal Challengers...|        field|  runs|          140|Kolkata Knight Ri...|\n",
            "|Royal Challengers...|        field|  runs|          140|Kolkata Knight Ri...|\n",
            "|Royal Challengers...|        field|  runs|          140|Kolkata Knight Ri...|\n",
            "|Royal Challengers...|        field|  runs|          140|Kolkata Knight Ri...|\n",
            "|Royal Challengers...|        field|  runs|          140|Kolkata Knight Ri...|\n",
            "|Royal Challengers...|        field|  runs|          140|Kolkata Knight Ri...|\n",
            "|Royal Challengers...|        field|  runs|          140|Kolkata Knight Ri...|\n",
            "|Royal Challengers...|        field|  runs|          140|Kolkata Knight Ri...|\n",
            "|Royal Challengers...|        field|  runs|          140|Kolkata Knight Ri...|\n",
            "|Royal Challengers...|        field|  runs|          140|Kolkata Knight Ri...|\n",
            "+--------------------+-------------+------+-------------+--------------------+\n",
            "only showing top 20 rows\n",
            "\n"
          ]
        }
      ]
    },
    {
      "cell_type": "code",
      "source": [
        "df9 = ipl_vmb.groupBy(\"toss_winner\",\"winner\",\"toss_decision\",\"result\").sum(\"result_margin\")\n",
        "df9.sort(\"toss_winner\").show()"
      ],
      "metadata": {
        "colab": {
          "base_uri": "https://localhost:8080/"
        },
        "id": "FGFRXB8SFCUt",
        "outputId": "f44e43b4-c898-4b5c-9b95-1e66750034d4"
      },
      "execution_count": null,
      "outputs": [
        {
          "output_type": "stream",
          "name": "stdout",
          "text": [
            "+-------------------+--------------------+-------------+-------+------------------+\n",
            "|        toss_winner|              winner|toss_decision| result|sum(result_margin)|\n",
            "+-------------------+--------------------+-------------+-------+------------------+\n",
            "|Chennai Super Kings|Royal Challengers...|          bat|wickets|              1705|\n",
            "|Chennai Super Kings|Kolkata Knight Ri...|          bat|   runs|              1860|\n",
            "|Chennai Super Kings|    Delhi Daredevils|          bat|wickets|              4724|\n",
            "|Chennai Super Kings|     Kings XI Punjab|        field|    tie|              null|\n",
            "|Chennai Super Kings|     Deccan Chargers|          bat|wickets|              1464|\n",
            "|Chennai Super Kings| Sunrisers Hyderabad|        field|   runs|              5456|\n",
            "|Chennai Super Kings|     Kings XI Punjab|        field|   runs|             18080|\n",
            "|Chennai Super Kings|       Pune Warriors|          bat|wickets|              1701|\n",
            "|Chennai Super Kings|    Rajasthan Royals|        field|   runs|              4032|\n",
            "|Chennai Super Kings|      Mumbai Indians|        field|   runs|             36912|\n",
            "|Chennai Super Kings| Chennai Super Kings|          bat|   runs|            264986|\n",
            "|Chennai Super Kings|      Delhi Capitals|        field|   runs|             10868|\n",
            "|Chennai Super Kings|    Rajasthan Royals|          bat|wickets|              6148|\n",
            "|Chennai Super Kings|    Delhi Daredevils|        field|   runs|              8364|\n",
            "|Chennai Super Kings| Sunrisers Hyderabad|          bat|wickets|              1362|\n",
            "|Chennai Super Kings|Royal Challengers...|        field|   runs|             11645|\n",
            "|Chennai Super Kings| Chennai Super Kings|        field|wickets|             41388|\n",
            "|Chennai Super Kings|     Kings XI Punjab|          bat|wickets|              1476|\n",
            "|Chennai Super Kings|      Delhi Capitals|          bat|wickets|              1230|\n",
            "|Chennai Super Kings|Kolkata Knight Ri...|          bat|wickets|              4240|\n",
            "+-------------------+--------------------+-------------+-------+------------------+\n",
            "only showing top 20 rows\n",
            "\n"
          ]
        }
      ]
    },
    {
      "cell_type": "markdown",
      "source": [
        "# **SECTION 3**"
      ],
      "metadata": {
        "id": "ksNG-T1k4JAt"
      }
    },
    {
      "cell_type": "code",
      "source": [
        "import sqlite3\n",
        "\n",
        "connection = sqlite3.connect(\"ipl.db\")\n",
        "\n",
        "c = connection.cursor()\n",
        "\n",
        "def create_table():\n",
        "  c.execute(\"CREATE TABLE IF NOT EXISTS IPL_DATA()\")\n",
        "\n",
        "def data_entry():\n",
        "  c.execute(\"INSERT INTO IPL_DATA VALUES()\")\n",
        "  connection.commit()\n",
        "  c.close()\n",
        "  connection.close()\n",
        "\n",
        "create_table()\n",
        "data_entry()  \n",
        "\n"
      ],
      "metadata": {
        "id": "NFu4atKROyGD"
      },
      "execution_count": null,
      "outputs": []
    },
    {
      "cell_type": "code",
      "source": [
        ""
      ],
      "metadata": {
        "id": "x5cnobon_JxC"
      },
      "execution_count": null,
      "outputs": []
    }
  ]
}